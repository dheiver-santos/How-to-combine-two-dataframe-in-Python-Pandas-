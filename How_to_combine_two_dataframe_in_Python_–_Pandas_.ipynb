{
  "nbformat": 4,
  "nbformat_minor": 0,
  "metadata": {
    "colab": {
      "name": "How to combine two dataframe in Python – Pandas?.ipynb",
      "provenance": []
    },
    "kernelspec": {
      "name": "python3",
      "display_name": "Python 3"
    },
    "language_info": {
      "name": "python"
    }
  },
  "cells": [
    {
      "cell_type": "code",
      "metadata": {
        "colab": {
          "base_uri": "https://localhost:8080/",
          "height": 297
        },
        "id": "k9bIxQHpS0Yx",
        "outputId": "de4b3d53-c586-490f-a8d1-0776247f6587"
      },
      "source": [
        "import pandas as pd\n",
        "# First DataFrame\n",
        "df1 = pd.DataFrame({'id': ['A01', 'A02', 'A03', 'A04'],\n",
        "\t\t\t\t\t'Name': ['ABC', 'PQR', 'DEF', 'GHI']})\n",
        "\n",
        "# Second DataFrame\n",
        "df2 = pd.DataFrame({'id': ['B05', 'B06', 'B07', 'B08'],\n",
        "\t\t\t\t\t'Name': ['XYZ', 'TUV', 'MNO', 'JKL']})\n",
        "\n",
        "\n",
        "frames = [df1, df2]\n",
        "\n",
        "result = pd.concat(frames)\n",
        "display(result)\n"
      ],
      "execution_count": 1,
      "outputs": [
        {
          "output_type": "display_data",
          "data": {
            "text/html": [
              "<div>\n",
              "<style scoped>\n",
              "    .dataframe tbody tr th:only-of-type {\n",
              "        vertical-align: middle;\n",
              "    }\n",
              "\n",
              "    .dataframe tbody tr th {\n",
              "        vertical-align: top;\n",
              "    }\n",
              "\n",
              "    .dataframe thead th {\n",
              "        text-align: right;\n",
              "    }\n",
              "</style>\n",
              "<table border=\"1\" class=\"dataframe\">\n",
              "  <thead>\n",
              "    <tr style=\"text-align: right;\">\n",
              "      <th></th>\n",
              "      <th>id</th>\n",
              "      <th>Name</th>\n",
              "    </tr>\n",
              "  </thead>\n",
              "  <tbody>\n",
              "    <tr>\n",
              "      <th>0</th>\n",
              "      <td>A01</td>\n",
              "      <td>ABC</td>\n",
              "    </tr>\n",
              "    <tr>\n",
              "      <th>1</th>\n",
              "      <td>A02</td>\n",
              "      <td>PQR</td>\n",
              "    </tr>\n",
              "    <tr>\n",
              "      <th>2</th>\n",
              "      <td>A03</td>\n",
              "      <td>DEF</td>\n",
              "    </tr>\n",
              "    <tr>\n",
              "      <th>3</th>\n",
              "      <td>A04</td>\n",
              "      <td>GHI</td>\n",
              "    </tr>\n",
              "    <tr>\n",
              "      <th>0</th>\n",
              "      <td>B05</td>\n",
              "      <td>XYZ</td>\n",
              "    </tr>\n",
              "    <tr>\n",
              "      <th>1</th>\n",
              "      <td>B06</td>\n",
              "      <td>TUV</td>\n",
              "    </tr>\n",
              "    <tr>\n",
              "      <th>2</th>\n",
              "      <td>B07</td>\n",
              "      <td>MNO</td>\n",
              "    </tr>\n",
              "    <tr>\n",
              "      <th>3</th>\n",
              "      <td>B08</td>\n",
              "      <td>JKL</td>\n",
              "    </tr>\n",
              "  </tbody>\n",
              "</table>\n",
              "</div>"
            ],
            "text/plain": [
              "    id Name\n",
              "0  A01  ABC\n",
              "1  A02  PQR\n",
              "2  A03  DEF\n",
              "3  A04  GHI\n",
              "0  B05  XYZ\n",
              "1  B06  TUV\n",
              "2  B07  MNO\n",
              "3  B08  JKL"
            ]
          },
          "metadata": {
            "tags": []
          }
        }
      ]
    },
    {
      "cell_type": "code",
      "metadata": {
        "colab": {
          "base_uri": "https://localhost:8080/",
          "height": 173
        },
        "id": "UOOlx4R0S28j",
        "outputId": "f766f4de-aa01-4680-9195-8730f6390060"
      },
      "source": [
        "import pandas as pd\n",
        "\n",
        "df1 = pd.DataFrame({'id': ['A01', 'A02', 'A03', 'A04'],\n",
        "\t\t\t\t\t'Name': ['ABC', 'PQR', 'DEF', 'GHI']})\n",
        "\n",
        "df3 = pd.DataFrame({'City': ['MUMBAI', 'PUNE', 'MUMBAI', 'DELHI'],\n",
        "\t\t\t\t\t'Age': ['12', '13', '14', '12']})\n",
        "\n",
        "# the default behaviour is join='outer'\n",
        "# inner join\n",
        "\n",
        "result = pd.concat([df1, df3], axis=1, join='inner')\n",
        "display(result)\n"
      ],
      "execution_count": 2,
      "outputs": [
        {
          "output_type": "display_data",
          "data": {
            "text/html": [
              "<div>\n",
              "<style scoped>\n",
              "    .dataframe tbody tr th:only-of-type {\n",
              "        vertical-align: middle;\n",
              "    }\n",
              "\n",
              "    .dataframe tbody tr th {\n",
              "        vertical-align: top;\n",
              "    }\n",
              "\n",
              "    .dataframe thead th {\n",
              "        text-align: right;\n",
              "    }\n",
              "</style>\n",
              "<table border=\"1\" class=\"dataframe\">\n",
              "  <thead>\n",
              "    <tr style=\"text-align: right;\">\n",
              "      <th></th>\n",
              "      <th>id</th>\n",
              "      <th>Name</th>\n",
              "      <th>City</th>\n",
              "      <th>Age</th>\n",
              "    </tr>\n",
              "  </thead>\n",
              "  <tbody>\n",
              "    <tr>\n",
              "      <th>0</th>\n",
              "      <td>A01</td>\n",
              "      <td>ABC</td>\n",
              "      <td>MUMBAI</td>\n",
              "      <td>12</td>\n",
              "    </tr>\n",
              "    <tr>\n",
              "      <th>1</th>\n",
              "      <td>A02</td>\n",
              "      <td>PQR</td>\n",
              "      <td>PUNE</td>\n",
              "      <td>13</td>\n",
              "    </tr>\n",
              "    <tr>\n",
              "      <th>2</th>\n",
              "      <td>A03</td>\n",
              "      <td>DEF</td>\n",
              "      <td>MUMBAI</td>\n",
              "      <td>14</td>\n",
              "    </tr>\n",
              "    <tr>\n",
              "      <th>3</th>\n",
              "      <td>A04</td>\n",
              "      <td>GHI</td>\n",
              "      <td>DELHI</td>\n",
              "      <td>12</td>\n",
              "    </tr>\n",
              "  </tbody>\n",
              "</table>\n",
              "</div>"
            ],
            "text/plain": [
              "    id Name    City Age\n",
              "0  A01  ABC  MUMBAI  12\n",
              "1  A02  PQR    PUNE  13\n",
              "2  A03  DEF  MUMBAI  14\n",
              "3  A04  GHI   DELHI  12"
            ]
          },
          "metadata": {
            "tags": []
          }
        }
      ]
    },
    {
      "cell_type": "code",
      "metadata": {
        "colab": {
          "base_uri": "https://localhost:8080/",
          "height": 297
        },
        "id": "aKROTtveS48S",
        "outputId": "89a64811-55cc-435a-c14c-7d4a781e44c7"
      },
      "source": [
        "import pandas as pd\n",
        "# First DataFrame\n",
        "df1 = pd.DataFrame({'id': ['A01', 'A02', 'A03', 'A04'],\n",
        "\t\t\t\t\t'Name': ['ABC', 'PQR', 'DEF', 'GHI']})\n",
        "\n",
        "# Second DataFrame\n",
        "df2 = pd.DataFrame({'id': ['B05', 'B06', 'B07', 'B08'],\n",
        "\t\t\t\t\t'Name': ['XYZ', 'TUV', 'MNO', 'JKL']})\n",
        "\n",
        "# append method\n",
        "result = df1.append(df2)\n",
        "display(result)\n"
      ],
      "execution_count": 3,
      "outputs": [
        {
          "output_type": "display_data",
          "data": {
            "text/html": [
              "<div>\n",
              "<style scoped>\n",
              "    .dataframe tbody tr th:only-of-type {\n",
              "        vertical-align: middle;\n",
              "    }\n",
              "\n",
              "    .dataframe tbody tr th {\n",
              "        vertical-align: top;\n",
              "    }\n",
              "\n",
              "    .dataframe thead th {\n",
              "        text-align: right;\n",
              "    }\n",
              "</style>\n",
              "<table border=\"1\" class=\"dataframe\">\n",
              "  <thead>\n",
              "    <tr style=\"text-align: right;\">\n",
              "      <th></th>\n",
              "      <th>id</th>\n",
              "      <th>Name</th>\n",
              "    </tr>\n",
              "  </thead>\n",
              "  <tbody>\n",
              "    <tr>\n",
              "      <th>0</th>\n",
              "      <td>A01</td>\n",
              "      <td>ABC</td>\n",
              "    </tr>\n",
              "    <tr>\n",
              "      <th>1</th>\n",
              "      <td>A02</td>\n",
              "      <td>PQR</td>\n",
              "    </tr>\n",
              "    <tr>\n",
              "      <th>2</th>\n",
              "      <td>A03</td>\n",
              "      <td>DEF</td>\n",
              "    </tr>\n",
              "    <tr>\n",
              "      <th>3</th>\n",
              "      <td>A04</td>\n",
              "      <td>GHI</td>\n",
              "    </tr>\n",
              "    <tr>\n",
              "      <th>0</th>\n",
              "      <td>B05</td>\n",
              "      <td>XYZ</td>\n",
              "    </tr>\n",
              "    <tr>\n",
              "      <th>1</th>\n",
              "      <td>B06</td>\n",
              "      <td>TUV</td>\n",
              "    </tr>\n",
              "    <tr>\n",
              "      <th>2</th>\n",
              "      <td>B07</td>\n",
              "      <td>MNO</td>\n",
              "    </tr>\n",
              "    <tr>\n",
              "      <th>3</th>\n",
              "      <td>B08</td>\n",
              "      <td>JKL</td>\n",
              "    </tr>\n",
              "  </tbody>\n",
              "</table>\n",
              "</div>"
            ],
            "text/plain": [
              "    id Name\n",
              "0  A01  ABC\n",
              "1  A02  PQR\n",
              "2  A03  DEF\n",
              "3  A04  GHI\n",
              "0  B05  XYZ\n",
              "1  B06  TUV\n",
              "2  B07  MNO\n",
              "3  B08  JKL"
            ]
          },
          "metadata": {
            "tags": []
          }
        }
      ]
    }
  ]
}